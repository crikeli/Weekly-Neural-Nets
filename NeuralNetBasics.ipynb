{
 "cells": [
  {
   "cell_type": "markdown",
   "metadata": {},
   "source": [
    "# Understanding a Basic 2 Layer Neural Network\n",
    "\n",
    "#### This ipynb is written to assist my personal understanding of neural networks. It would make me even happier if it helped others understand also :) . I will go in-depth with every part of the code as I write it.\n",
    "\n",
    "## Step 1 : importing dependencies :\n",
    "\n",
    "- The only dependency we will need for running this network is numpy (for mathematically manipulating multidimensional arrays and matrices.)\n",
    "\n",
    "\n"
   ]
  },
  {
   "cell_type": "code",
   "execution_count": 27,
   "metadata": {
    "collapsed": true
   },
   "outputs": [],
   "source": [
    "import numpy as np"
   ]
  },
  {
   "cell_type": "markdown",
   "metadata": {},
   "source": [
    "## Step 2 : Defining the non-linearity:\n",
    "\n",
    "- For this example, I have used the sigmoid non-linearity function. It maps any value to a value between 0 & 1. This is very helpful as it helps convert numbers to probabilities.\n",
    "\n",
    "\n",
    "##### A very helpful property of sigmoid function is that its output can be used to create its derivative. For example if th sigmoid has an output of \"x\", then the derivative is calculated simply as x * (1 - x)"
   ]
  },
  {
   "cell_type": "code",
   "execution_count": 33,
   "metadata": {
    "collapsed": true
   },
   "outputs": [],
   "source": [
    "# non linearity that is utilized to gauge output confidence.\n",
    "# values are between 0 & 1. The sigmoid function can also generate\n",
    "# a derivative if (deriv=True)\n",
    "def sigmoidFn(x, deriv=False):\n",
    "    if(deriv==True):\n",
    "        return x*(1-x)\n",
    "    return 1/(1+np.exp(-x))"
   ]
  },
  {
   "cell_type": "markdown",
   "metadata": {},
   "source": [
    "## Step 3 : Initializing the input matrix using numpy\n",
    "\n",
    "- For all intents and purposes, I will be creating a very basic input-dataset. It is a simple 6 X 3 matrix (6 rows by 3 columns)\n",
    "\n",
    "\n",
    "- Each row is a \"training-example\" and each column is an input \"node\" that is fed into the network. This means, the network 3 inputs and 6 training examples which the network can be trained from."
   ]
  },
  {
   "cell_type": "code",
   "execution_count": 32,
   "metadata": {
    "collapsed": false
   },
   "outputs": [],
   "source": [
    "# Input matrix where every row is a training example and each column is\n",
    "# an input node to the network.\n",
    "X = np.array([[1,0,1],\n",
    "              [1,1,1],\n",
    "              [1,1,0],\n",
    "              [0,0,1],\n",
    "              [0,1,1],\n",
    "              [0,1,0]])"
   ]
  },
  {
   "cell_type": "markdown",
   "metadata": {},
   "source": [
    "## Step 4 : Initializing the output dataset using numpy\n",
    "\n",
    "- In accordance with the simple training data, I created a simple output (so that the network can be quickly trained), which is a 1 X 6 (1 row by 6 columns) array.\n",
    "\n",
    "\n",
    "- The next step would be transpose the array, which would change the shape of the matrix above to a 6 X 1. This is done to ensure the output is in accordance with the input. i.e, Each row is a training example and each column is an output node.\n",
    "### The above statement means that the network has 6 inputs and one output."
   ]
  },
  {
   "cell_type": "code",
   "execution_count": null,
   "metadata": {
    "collapsed": true
   },
   "outputs": [],
   "source": []
  }
 ],
 "metadata": {
  "anaconda-cloud": {},
  "kernelspec": {
   "display_name": "Python 2",
   "language": "python",
   "name": "python2"
  },
  "language_info": {
   "codemirror_mode": {
    "name": "ipython",
    "version": 2
   },
   "file_extension": ".py",
   "mimetype": "text/x-python",
   "name": "python",
   "nbconvert_exporter": "python",
   "pygments_lexer": "ipython2",
   "version": "2.7.12"
  }
 },
 "nbformat": 4,
 "nbformat_minor": 1
}
