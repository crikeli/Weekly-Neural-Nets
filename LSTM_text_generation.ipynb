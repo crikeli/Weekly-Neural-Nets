{
 "cells": [
  {
   "cell_type": "code",
   "execution_count": 25,
   "metadata": {
    "collapsed": false
   },
   "outputs": [
    {
     "name": "stderr",
     "output_type": "stream",
     "text": [
      "Using TensorFlow backend.\n"
     ]
    },
    {
     "name": "stdout",
     "output_type": "stream",
     "text": [
      "\n"
     ]
    }
   ],
   "source": [
    "import numpy\n",
    "from keras.models import Sequential\n",
    "from keras.layers import Dense\n",
    "from keras.layers import Dropout\n",
    "from keras.layers import LSTM\n",
    "from keras.callbacks import ModelCheckpoint\n",
    "from keras.utils import np_utils"
   ]
  },
  {
   "cell_type": "code",
   "execution_count": 26,
   "metadata": {
    "collapsed": true
   },
   "outputs": [],
   "source": [
    "# Importing text-file defined as wonderland.txt\n",
    "filename = \"wonderland.txt\"\n",
    "# Using the open functionality, read the contents of wonderland.txt\n",
    "raw_text = open(filename).read()\n",
    "# Converting all the contents of the file to lowercase.\n",
    "raw_text = raw_text.lower()"
   ]
  },
  {
   "cell_type": "code",
   "execution_count": 27,
   "metadata": {
    "collapsed": false
   },
   "outputs": [],
   "source": [
    "# create mapping of unique chars to integers\n",
    "# characters are sorted to a list of ordered sets.\n",
    "chars = sorted(list(set(raw_text)))\n",
    "# print \"CHARS\",chars\n",
    "\n",
    "# Build a dictionary of key value pairs and of characters to integers.\n",
    "char_to_int = dict((c, i) for i, c in enumerate(chars))\n",
    "# print \"char_to_int\",char_to_int"
   ]
  },
  {
   "cell_type": "code",
   "execution_count": 28,
   "metadata": {
    "collapsed": false
   },
   "outputs": [
    {
     "name": "stdout",
     "output_type": "stream",
     "text": [
      "Total Characters:  163779\n",
      "Total Vocab:  58\n"
     ]
    }
   ],
   "source": [
    "# Calculate the total text length\n",
    "n_chars = len(raw_text)\n",
    "# Unique characters when converted to lowercase.\n",
    "n_vocab = len(chars)\n",
    "print \"Total Characters: \", n_chars\n",
    "print \"Total Vocab: \", n_vocab"
   ]
  },
  {
   "cell_type": "code",
   "execution_count": 32,
   "metadata": {
    "collapsed": false
   },
   "outputs": [
    {
     "name": "stdout",
     "output_type": "stream",
     "text": [
      "Total Patterns1:  163679\n",
      "Total Patterns2 163679\n"
     ]
    }
   ],
   "source": [
    "# Splitting up the data into training data\n",
    "sq_len = 100\n",
    "dataX = []\n",
    "dataY = []\n",
    "# Iterate through the range from zero to n_chars=sq_len with a step size of 1.\n",
    "for i in range(0, n_chars - sq_len, 1):\n",
    "    sq_in = raw_text[i:i + sq_len]\n",
    "    sq_out = raw_text[i + sq_len]\n",
    "    dataX.append([char_to_int[char] for char in sq_in])\n",
    "    dataY.append(char_to_int[sq_out])\n",
    "n1_patterns = len(dataX)\n",
    "n2_patterns = len(dataY)\n",
    "print \"Total Patterns1: \", n1_patterns\n",
    "print \"Total Patterns2\", n2_patterns"
   ]
  },
  {
   "cell_type": "code",
   "execution_count": 37,
   "metadata": {
    "collapsed": false
   },
   "outputs": [],
   "source": [
    "# reshape X to be [samples, time_steps, feature]\n",
    "X = numpy.reshape(dataX, (n1_patterns, sq_len, 1))\n",
    "# normalize\n",
    "X = X/float(n_vocab)\n",
    "# print X\n",
    "# encoding (one-hot) the value is one of 58.\n",
    "y = np_utils.to_categorical(dataY)\n",
    "# print y[2]"
   ]
  },
  {
   "cell_type": "code",
   "execution_count": 38,
   "metadata": {
    "collapsed": true
   },
   "outputs": [],
   "source": [
    "model = Sequential()\n",
    "model.add(LSTM(256, input_shape=(X.shape[1], X.shape[2])))\n",
    "model.add(Dropout(0.2))\n",
    "model.add(Dense(y.shape[1], activation='softmax'))\n",
    "model.compile(loss='categorical_crossentropy', optimizer='adam')"
   ]
  },
  {
   "cell_type": "code",
   "execution_count": 41,
   "metadata": {
    "collapsed": true
   },
   "outputs": [],
   "source": [
    "# Since the model is slow to train on a cpu, A previously trained model is imported.\n",
    "filepath = \"weights-improvement-{epoch:02d}-{loss:.4f}.hdf5\"\n",
    "checkpoint = ModelCheckpoint(filepath, monitor='loss', verbose=1, save_best_only=True, mode='min')\n",
    "callbacks_list = [checkpoint]"
   ]
  },
  {
   "cell_type": "code",
   "execution_count": 44,
   "metadata": {
    "collapsed": false
   },
   "outputs": [],
   "source": [
    "# model.fit(X, y, nb_epoch=20, batch_size=128, callbacks=callbacks_list)"
   ]
  },
  {
   "cell_type": "code",
   "execution_count": null,
   "metadata": {
    "collapsed": true
   },
   "outputs": [],
   "source": []
  }
 ],
 "metadata": {
  "kernelspec": {
   "display_name": "Python 2",
   "language": "python",
   "name": "python2"
  },
  "language_info": {
   "codemirror_mode": {
    "name": "ipython",
    "version": 2
   },
   "file_extension": ".py",
   "mimetype": "text/x-python",
   "name": "python",
   "nbconvert_exporter": "python",
   "pygments_lexer": "ipython2",
   "version": "2.7.12"
  }
 },
 "nbformat": 4,
 "nbformat_minor": 2
}
