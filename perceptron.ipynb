{
 "cells": [
  {
   "cell_type": "markdown",
   "metadata": {},
   "source": [
    "# The Perceptron Algorithm.\n",
    "\n",
    "### A perceptron is the building block of Neural Networks.\n",
    "#### Below, I will be implementing the perceptron algorithm in python and documenting it extensively.\n",
    "\n"
   ]
  },
  {
   "cell_type": "markdown",
   "metadata": {},
   "source": [
    "# The Concept\n",
    "\n",
    "- A perceptron is basically an individual node in the neural network that receives an input signal in the form of \"training data\" and it processes that data as a linear function defined below.\n",
    "\n",
    "```python\n",
    "activation = sum(weight_of_input * input) + bias\n",
    "```\n",
    "\n",
    "- The above defined activation function is then utilized to predict the output. The output of our perceptron is dependent upon the result of the activation function.\n",
    "\n",
    "```python\n",
    "prediction = 1.0 if activation >= 0.0 else 0.0\n",
    "```\n",
    "- The above line of code simply goes to show that the Perceptron is a classification problem with two classes (1.0 & 0.0)\n",
    "\n",
    "##### The \"weight_of_input\" mentioned above is estimated using Stochastic Gradient Descent which is what I will extrapolate on next."
   ]
  },
  {
   "cell_type": "markdown",
   "metadata": {},
   "source": [
    "## Stochastic Gradient Descent\n",
    "\n",
    "- Gradient Descent is the process of minimizing a function following the gradient of a cost function.\n",
    "- In order to evaluate and update the weights of the perceptron at each iteration of training, Stochastic Gradient Descent is implemented.\n",
    "\n",
    "###### The basic concept of stochastic gradient descent is that each instance of the training data is shown to the perceptron model one at a time and the model makes a decision based on each training instance. The error is calculated and the model is updated to reduce the error for the next prediction.\n",
    "\n",
    "- The stochastic gradient descent model is used to find the set of weights that result in the smallest error in the output.\n",
    "\n",
    "```python\n",
    "w = w + learning_rate * (expected_value - predicted_value) * x\n",
    "```\n",
    "- \"w\" defined above is the weight that is beign optimized.\n",
    "- the \"learning_rate\" is configured manually (e.g. 0.01).\n",
    "- the \"expected_value - predicted_value\" is the prediction error of the model.\n",
    "- \"x\" is the input value to the perceptron."
   ]
  },
  {
   "cell_type": "markdown",
   "metadata": {},
   "source": [
    "# The Implementation of the Perceptron Algorithm.\n",
    "\n",
    "## Step - 1 :\n",
    "\n",
    "- In order for the perceptron algorithm to make accurate predictions, we need to define a function incharge of those predictions.\n",
    "\n",
    "- This prediction function will be essential in evaluating weight values during stochastic gradient descent as well as after the model is finalized and when we want to make novel predictions."
   ]
  },
  {
   "cell_type": "code",
   "execution_count": 6,
   "metadata": {
    "collapsed": false
   },
   "outputs": [
    {
     "name": "stdout",
     "output_type": "stream",
     "text": [
      "Initial Activation: -0.1\n",
      "Iterative Activation: 0.474394998737\n",
      "Iterative Weights 0.2065364014\n",
      "Iterative Rows 2.7810836\n",
      "Iterative Activation: -0.122892758863\n",
      "Iterative Weights -0.2341811771\n",
      "Iterative Rows 2.550537003\n",
      "Prediction: 0.0\n"
     ]
    }
   ],
   "source": [
    "# The following function predicts the output value of a row, when it is provided with a set of weights.\n",
    "# sample row = [2.7810836,2.550537003,0]\n",
    "# sample weights = [-0.1, 0.20653640140000007, -0.23418117710000003]\n",
    "def make_prediction(row, weights):\n",
    "    # The initial activation value is always the bias because it is independent and not responsible for any specific input.\n",
    "    activation = weights[0]\n",
    "    print \"Initial Activation:\",activation\n",
    "    for i in range(len(row) - 1):\n",
    "        activation += weights[i + 1] * row[i]\n",
    "        print \"Iterative Activation:\",activation\n",
    "        print \"Iterative Weights\",weights[i+1]\n",
    "        print \"Iterative Rows\",row[i]\n",
    "    return 1.0 if activation >= 0.0 else 0.0\n",
    "\n",
    "w = [-0.1, 0.20653640140000007, -0.23418117710000003]\n",
    "r = [2.7810836,2.550537003,0]\n",
    "\n",
    "mp = make_prediction(r,w)\n",
    "\n",
    "# print \"AF\",activation\n",
    "print \"Prediction:\", mp"
   ]
  },
  {
   "cell_type": "code",
   "execution_count": null,
   "metadata": {
    "collapsed": true
   },
   "outputs": [],
   "source": []
  }
 ],
 "metadata": {
  "kernelspec": {
   "display_name": "Python 2",
   "language": "python",
   "name": "python2"
  },
  "language_info": {
   "codemirror_mode": {
    "name": "ipython",
    "version": 2
   },
   "file_extension": ".py",
   "mimetype": "text/x-python",
   "name": "python",
   "nbconvert_exporter": "python",
   "pygments_lexer": "ipython2",
   "version": "2.7.10"
  }
 },
 "nbformat": 4,
 "nbformat_minor": 1
}
